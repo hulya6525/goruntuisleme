{
 "cells": [
  {
   "cell_type": "markdown",
   "id": "a90db1ba-6346-456c-b18f-a494c03a7eef",
   "metadata": {},
   "source": [
    "# Computer Vision\n",
    "\n",
    "Computer vision, görüntülerden bilgi çıkarma ve anlama sürecidir. Bu süreç, görüntülerdeki nesneleri tanıma, sınıflandırma, takip etme, yüz tanıma, hareket analizi, 3D modelleme gibi çeşitli görevleri içerir. OpenCV, bu tür görevleri gerçekleştirmek için kullanılan bir dizi işlevi ve algoritmayı sağlar.OpenCV'nin sağladığı işlevler arasında görüntü okuma ve yazma, görüntü işleme, kenar tespiti, nesne algılama, nesne takibi, yüz algılama ve tanıma, stereo görüntü işleme, kamera kalibrasyonu gibi birçok özellik bulunur."
   ]
  },
  {
   "cell_type": "markdown",
   "id": "ebfa1415-77ef-4991-9a36-5cfa1cb92932",
   "metadata": {},
   "source": [
    "### OpenCv Kütüphanesi Kullanımı\n",
    "OpenCv kütüphanesi kullanarak aşağıdaki işlemler yapılabilir:\n",
    "\n",
    "1- **Görüntü Okuma ve Yazma**:\n",
    "Görüntü dosyalarını okuyabilir ve yazabilirsiniz. Bu, JPEG, PNG, BMP gibi yaygın görüntü formatlarını destekler.\n",
    "\n",
    "2.**Renk Dönüşümleri**:\n",
    "Renk uzaylarını dönüştürebilirsiniz. Örneğin, BGR'den Gri veya RGB'ye dönüştürebilirsiniz.\n",
    "\n",
    "3.**Görüntü Yeniden Boyutlandırma ve Kırpma**:\n",
    "Görüntüleri istenen boyuta yeniden boyutlandırabilir veya belirli bir bölgeyi kırpabilirsiniz.\n",
    "\n",
    "4.**Kenar Tespiti ve Kenar Belirleme**:\n",
    "Sobel, Canny veya Laplacian gibi filtreleri kullanarak görüntüdeki kenarları tespit edebilirsiniz.\n",
    "\n",
    "5.**Nesne Tespiti ve Tanıma**:\n",
    "Nesneleri tespit etmek ve tanımak için önceden eğitilmiş modeller kullanabilirsiniz. YOLO, SSD, Faster R-CNN gibi modeller OpenCV ile entegre edilebilir.\n",
    "\n",
    "6.**Nesne Takibi**:\n",
    "Bir nesneyi takip etmek için görüntüdeki hareketi izleyebilirsiniz. Bu, hareket izleme algoritmaları kullanılarak gerçekleştirilir.\n",
    "\n",
    "7.**Yüz ve Nesne Tanıma**:\n",
    "Önceden eğitilmiş sınıflandırıcılar veya derin öğrenme modelleri kullanarak yüzler veya belirli nesneleri tanıyabilirsiniz.\n",
    "\n",
    "8.**Hareket Algılama**:\n",
    "Görüntüdeki hareketi algılayabilir ve belirli eşik değerleri üzerindeki değişiklikleri izleyebilirsiniz.\n",
    "\n",
    "9.**Görüntü Filtreleme ve Efektler**:\n",
    "Görüntü üzerinde farklı filtreler uygulayabilir veya özel efektler ekleyebilirsiniz. Örneğin, bulanıklık, keskinlik, morfolojik işlemler gibi.\n",
    "\n",
    "10.**Görüntü Birleştirme ve Bölme**:\n",
    "Birden fazla görüntüyü birleştirebilir veya bir görüntüyü belirli bir desene veya nesneye göre bölebilirsiniz.\n",
    "\n"
   ]
  },
  {
   "cell_type": "markdown",
   "id": "bf8597a7-af19-4875-9ea5-9fb77b63b804",
   "metadata": {},
   "source": [
    "### 0- Kütüphanenin kurulumu"
   ]
  },
  {
   "cell_type": "code",
   "execution_count": null,
   "id": "e8300d50-497c-42e1-ac2b-cc458bffa579",
   "metadata": {},
   "outputs": [],
   "source": [
    "#opencv kurulumu\n",
    "pip install opencv-python"
   ]
  },
  {
   "cell_type": "markdown",
   "id": "3a012d5b-7d9d-4b64-82fd-0539628cd9ab",
   "metadata": {},
   "source": [
    "### 1- Görüntü Yükleme ve Görüntü Bilgilerini Alma:"
   ]
  },
  {
   "cell_type": "code",
   "execution_count": null,
   "id": "16af5290-9980-42ea-86f9-c4266926ae24",
   "metadata": {},
   "outputs": [],
   "source": [
    "import cv2\n",
    "\n",
    "# Görüntüyü yükleme\n",
    "image = cv2.imread(\"image.jpg\")\n",
    "\n",
    "# Görüntü bilgilerini alma\n",
    "height, width, channels = image.shape\n",
    "\n",
    "# Görüntüyü ekranda gösterme\n",
    "cv2.imshow(\"Image\", image)\n",
    "cv2.waitKey(0)\n",
    "cv2.destroyAllWindows()\n",
    "\n",
    "\n",
    "\n"
   ]
  },
  {
   "cell_type": "markdown",
   "id": "474f1e1f-1f51-4097-b13b-2997d2f13464",
   "metadata": {},
   "source": [
    "### 2- Görüntüyü gri tonlama yapma"
   ]
  },
  {
   "cell_type": "code",
   "execution_count": null,
   "id": "3be2c9b7-6708-4de3-9ab5-215ce741fef0",
   "metadata": {},
   "outputs": [],
   "source": [
    "\n",
    "# Görüntüyü gri tonlama yapma\n",
    "gray_image = cv2.cvtColor(input_image, cv2.COLOR_BGR2GRAY)\n",
    "\n",
    "# Gri tonlanmış görüntüyü gösterme\n",
    "cv2.imshow(\"Gri Tonlama\", gray_image)\n",
    "cv2.waitKey(0)\n",
    "\n",
    "\n"
   ]
  },
  {
   "cell_type": "markdown",
   "id": "9a7d8a46",
   "metadata": {},
   "source": [
    "3-Yüz Tanıma:"
   ]
  },
  {
   "cell_type": "code",
   "execution_count": null,
   "id": "b265a851-406a-49c5-af2f-3e8cfaf6087f",
   "metadata": {},
   "outputs": [],
   "source": [
    "\n",
    "import cv2\n",
    "\n",
    "# Yüz tanıma modelini yükleme\n",
    "face_cascade = cv2.CascadeClassifier(cv2.data.haarcascades + 'haarcascade_frontalface_default.xml')\n",
    "\n",
    "# Görüntüyü gri tona dönüştürme\n",
    "gray = cv2.cvtColor(image, cv2.COLOR_BGR2GRAY)\n",
    "\n",
    "# Yüzleri tespit etme\n",
    "faces = face_cascade.detectMultiScale(gray, 1.3, 5)\n",
    "\n",
    "# Yüzleri çerçeve içine alma\n",
    "for (x,y,w,h) in faces:\n",
    "    cv2.rectangle(image,(x,y),(x+w,y+h),(255,0,0),2)\n",
    "\n",
    "# Sonuçları gösterme\n",
    "cv2.imshow('Face Detection',image)\n",
    "cv2.waitKey(0)\n",
    "cv2.destroyAllWindows()\n",
    "\n",
    "\n"
   ]
  },
  {
   "cell_type": "markdown",
   "id": "69e75cd8",
   "metadata": {},
   "source": [
    "4-Kenar Tespiti:"
   ]
  },
  {
   "cell_type": "code",
   "execution_count": null,
   "id": "1f8e4f00-3502-461b-aadf-2b4f2b72b9d7",
   "metadata": {},
   "outputs": [],
   "source": [
    "import cv2\n",
    "\n",
    "# Kenar tespiti için Canny yöntemini kullanma\n",
    "edges = cv2.Canny(image, 100, 200)\n",
    "\n",
    "# Kenarları gösterme\n",
    "cv2.imshow('Edges', edges)\n",
    "cv2.waitKey(0)\n",
    "cv2.destroyAllWindows()"
   ]
  },
  {
   "cell_type": "markdown",
   "id": "1e616e26",
   "metadata": {},
   "source": [
    "5.Renk Uzayı Dönüşümleri:"
   ]
  },
  {
   "cell_type": "code",
   "execution_count": null,
   "id": "cdd6cedb-70b0-4b92-bb7e-406f08523a2e",
   "metadata": {},
   "outputs": [],
   "source": [
    "import cv2\n",
    "\n",
    "# BGR'den HSV'ye dönüşüm\n",
    "hsv_image = cv2.cvtColor(image, cv2.COLOR_BGR2HSV)\n",
    "\n",
    "# HSV görüntüsünü gösterme\n",
    "cv2.imshow('HSV Image', hsv_image)\n",
    "cv2.waitKey(0)\n",
    "cv2.destroyAllWindows()"
   ]
  },
  {
   "cell_type": "markdown",
   "id": "85b4c3b2",
   "metadata": {},
   "source": [
    "6.Görüntü Filtreleme:"
   ]
  },
  {
   "cell_type": "code",
   "execution_count": null,
   "id": "5cc6ca5b-4cdb-4c00-bb8f-4f372fe40855",
   "metadata": {},
   "outputs": [],
   "source": [
    "import cv2\n",
    "\n",
    "# Gaussian bulanıklığı uygulama\n",
    "blurred_image = cv2.GaussianBlur(image, (5, 5), 0)\n",
    "\n",
    "# Bulanık görüntüyü gösterme\n",
    "cv2.imshow('Blurred Image', blurred_image)\n",
    "cv2.waitKey(0)\n",
    "cv2.destroyAllWindows()"
   ]
  },
  {
   "cell_type": "code",
   "execution_count": null,
   "id": "1b421299-93ba-4bd3-b834-9b7e6a312c1e",
   "metadata": {},
   "outputs": [],
   "source": []
  },
  {
   "cell_type": "code",
   "execution_count": null,
   "id": "780699fa-ba1e-4afe-98ed-cca0059e16de",
   "metadata": {},
   "outputs": [],
   "source": []
  },
  {
   "cell_type": "code",
   "execution_count": null,
   "id": "f4392b19-df68-4bf0-8974-6baead62cb74",
   "metadata": {},
   "outputs": [],
   "source": []
  },
  {
   "cell_type": "code",
   "execution_count": null,
   "id": "42a66bc3-468c-44c7-ace2-f83b2d611b61",
   "metadata": {},
   "outputs": [],
   "source": []
  },
  {
   "cell_type": "code",
   "execution_count": null,
   "id": "39071b4b-7e50-4920-945c-8af91e227959",
   "metadata": {},
   "outputs": [],
   "source": []
  },
  {
   "cell_type": "code",
   "execution_count": null,
   "id": "947cfdb4-7757-408b-a599-bf40a73330b4",
   "metadata": {},
   "outputs": [],
   "source": []
  },
  {
   "cell_type": "code",
   "execution_count": null,
   "id": "fffc23d4-6bc7-412e-b776-cde8891ec8a7",
   "metadata": {},
   "outputs": [],
   "source": []
  }
 ],
 "metadata": {
  "kernelspec": {
   "display_name": "Python 3 (ipykernel)",
   "language": "python",
   "name": "python3"
  },
  "language_info": {
   "codemirror_mode": {
    "name": "ipython",
    "version": 3
   },
   "file_extension": ".py",
   "mimetype": "text/x-python",
   "name": "python",
   "nbconvert_exporter": "python",
   "pygments_lexer": "ipython3",
   "version": "3.11.9"
  }
 },
 "nbformat": 4,
 "nbformat_minor": 5
}
